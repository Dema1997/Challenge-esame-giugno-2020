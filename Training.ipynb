{
 "cells": [
  {
   "cell_type": "code",
   "execution_count": null,
   "metadata": {},
   "outputs": [],
   "source": [
    "!pip install -r requirementsTraining.txt"
   ]
  },
  {
   "cell_type": "markdown",
   "metadata": {},
   "source": [
    "## LIBRERIE"
   ]
  },
  {
   "cell_type": "code",
   "execution_count": 2,
   "metadata": {},
   "outputs": [],
   "source": [
    "import pandas as pd\n",
    "import numpy as np\n",
    "import matplotlib.pyplot as plt\n",
    "\n",
    "from sklearn.tree import DecisionTreeClassifier\n",
    "from sklearn.model_selection import train_test_split\n",
    "from sklearn.preprocessing import LabelEncoder\n",
    "from sklearn.preprocessing import StandardScaler"
   ]
  },
  {
   "cell_type": "code",
   "execution_count": 3,
   "metadata": {},
   "outputs": [],
   "source": [
    "%matplotlib inline"
   ]
  },
  {
   "cell_type": "markdown",
   "metadata": {},
   "source": [
    "## IMPORT DEI DATI"
   ]
  },
  {
   "cell_type": "code",
   "execution_count": 4,
   "metadata": {},
   "outputs": [],
   "source": [
    "test=pd.read_csv(\"test.csv\")\n",
    "train = pd.read_csv(\"train.csv\")"
   ]
  },
  {
   "cell_type": "code",
   "execution_count": 5,
   "metadata": {},
   "outputs": [],
   "source": [
    "train['No-show'].replace(\"No\", 0,inplace=True)\n",
    "train['No-show'].replace(\"Yes\", 1,inplace=True)\n",
    "\n",
    "test['No-show'].replace(\"No\", 0,inplace=True)\n",
    "test['No-show'].replace(\"Yes\", 1,inplace=True)"
   ]
  },
  {
   "cell_type": "markdown",
   "metadata": {},
   "source": [
    "## CONTROLLO DATASET\n",
    "\n",
    "Controllo l'assenza di campi Nan, Null, Duplicati\n"
   ]
  },
  {
   "cell_type": "code",
   "execution_count": 6,
   "metadata": {},
   "outputs": [
    {
     "data": {
      "text/html": [
       "<div>\n",
       "<style scoped>\n",
       "    .dataframe tbody tr th:only-of-type {\n",
       "        vertical-align: middle;\n",
       "    }\n",
       "\n",
       "    .dataframe tbody tr th {\n",
       "        vertical-align: top;\n",
       "    }\n",
       "\n",
       "    .dataframe thead th {\n",
       "        text-align: right;\n",
       "    }\n",
       "</style>\n",
       "<table border=\"1\" class=\"dataframe\">\n",
       "  <thead>\n",
       "    <tr style=\"text-align: right;\">\n",
       "      <th></th>\n",
       "      <th>index</th>\n",
       "      <th>0</th>\n",
       "    </tr>\n",
       "  </thead>\n",
       "  <tbody>\n",
       "    <tr>\n",
       "      <th>0</th>\n",
       "      <td>No-show</td>\n",
       "      <td>0</td>\n",
       "    </tr>\n",
       "    <tr>\n",
       "      <th>1</th>\n",
       "      <td>PatientId</td>\n",
       "      <td>0</td>\n",
       "    </tr>\n",
       "    <tr>\n",
       "      <th>2</th>\n",
       "      <td>AppointmentID</td>\n",
       "      <td>0</td>\n",
       "    </tr>\n",
       "    <tr>\n",
       "      <th>3</th>\n",
       "      <td>Gender</td>\n",
       "      <td>0</td>\n",
       "    </tr>\n",
       "    <tr>\n",
       "      <th>4</th>\n",
       "      <td>ScheduledDay</td>\n",
       "      <td>0</td>\n",
       "    </tr>\n",
       "    <tr>\n",
       "      <th>5</th>\n",
       "      <td>AppointmentDay</td>\n",
       "      <td>0</td>\n",
       "    </tr>\n",
       "    <tr>\n",
       "      <th>6</th>\n",
       "      <td>Age</td>\n",
       "      <td>0</td>\n",
       "    </tr>\n",
       "    <tr>\n",
       "      <th>7</th>\n",
       "      <td>Neighbourhood</td>\n",
       "      <td>0</td>\n",
       "    </tr>\n",
       "    <tr>\n",
       "      <th>8</th>\n",
       "      <td>Scholarship</td>\n",
       "      <td>0</td>\n",
       "    </tr>\n",
       "    <tr>\n",
       "      <th>9</th>\n",
       "      <td>Hipertension</td>\n",
       "      <td>0</td>\n",
       "    </tr>\n",
       "    <tr>\n",
       "      <th>10</th>\n",
       "      <td>Diabetes</td>\n",
       "      <td>0</td>\n",
       "    </tr>\n",
       "    <tr>\n",
       "      <th>11</th>\n",
       "      <td>Alcoholism</td>\n",
       "      <td>0</td>\n",
       "    </tr>\n",
       "    <tr>\n",
       "      <th>12</th>\n",
       "      <td>Handcap</td>\n",
       "      <td>0</td>\n",
       "    </tr>\n",
       "    <tr>\n",
       "      <th>13</th>\n",
       "      <td>SMS_received</td>\n",
       "      <td>0</td>\n",
       "    </tr>\n",
       "  </tbody>\n",
       "</table>\n",
       "</div>"
      ],
      "text/plain": [
       "             index  0\n",
       "0          No-show  0\n",
       "1        PatientId  0\n",
       "2    AppointmentID  0\n",
       "3           Gender  0\n",
       "4     ScheduledDay  0\n",
       "5   AppointmentDay  0\n",
       "6              Age  0\n",
       "7    Neighbourhood  0\n",
       "8      Scholarship  0\n",
       "9     Hipertension  0\n",
       "10        Diabetes  0\n",
       "11      Alcoholism  0\n",
       "12         Handcap  0\n",
       "13    SMS_received  0"
      ]
     },
     "execution_count": 6,
     "metadata": {},
     "output_type": "execute_result"
    }
   ],
   "source": [
    "missing_data_train = test.isnull().sum(axis=0).reset_index()\n",
    "missing_data_train\n",
    "missing_data_test = test.isnull().sum(axis=0).reset_index()\n",
    "missing_data_test"
   ]
  },
  {
   "cell_type": "code",
   "execution_count": 7,
   "metadata": {},
   "outputs": [
    {
     "data": {
      "text/html": [
       "<div>\n",
       "<style scoped>\n",
       "    .dataframe tbody tr th:only-of-type {\n",
       "        vertical-align: middle;\n",
       "    }\n",
       "\n",
       "    .dataframe tbody tr th {\n",
       "        vertical-align: top;\n",
       "    }\n",
       "\n",
       "    .dataframe thead th {\n",
       "        text-align: right;\n",
       "    }\n",
       "</style>\n",
       "<table border=\"1\" class=\"dataframe\">\n",
       "  <thead>\n",
       "    <tr style=\"text-align: right;\">\n",
       "      <th></th>\n",
       "      <th>index</th>\n",
       "      <th>0</th>\n",
       "    </tr>\n",
       "  </thead>\n",
       "  <tbody>\n",
       "    <tr>\n",
       "      <th>0</th>\n",
       "      <td>No-show</td>\n",
       "      <td>0</td>\n",
       "    </tr>\n",
       "    <tr>\n",
       "      <th>1</th>\n",
       "      <td>PatientId</td>\n",
       "      <td>0</td>\n",
       "    </tr>\n",
       "    <tr>\n",
       "      <th>2</th>\n",
       "      <td>AppointmentID</td>\n",
       "      <td>0</td>\n",
       "    </tr>\n",
       "    <tr>\n",
       "      <th>3</th>\n",
       "      <td>Gender</td>\n",
       "      <td>0</td>\n",
       "    </tr>\n",
       "    <tr>\n",
       "      <th>4</th>\n",
       "      <td>ScheduledDay</td>\n",
       "      <td>0</td>\n",
       "    </tr>\n",
       "    <tr>\n",
       "      <th>5</th>\n",
       "      <td>AppointmentDay</td>\n",
       "      <td>0</td>\n",
       "    </tr>\n",
       "    <tr>\n",
       "      <th>6</th>\n",
       "      <td>Age</td>\n",
       "      <td>0</td>\n",
       "    </tr>\n",
       "    <tr>\n",
       "      <th>7</th>\n",
       "      <td>Neighbourhood</td>\n",
       "      <td>0</td>\n",
       "    </tr>\n",
       "    <tr>\n",
       "      <th>8</th>\n",
       "      <td>Scholarship</td>\n",
       "      <td>0</td>\n",
       "    </tr>\n",
       "    <tr>\n",
       "      <th>9</th>\n",
       "      <td>Hipertension</td>\n",
       "      <td>0</td>\n",
       "    </tr>\n",
       "    <tr>\n",
       "      <th>10</th>\n",
       "      <td>Diabetes</td>\n",
       "      <td>0</td>\n",
       "    </tr>\n",
       "    <tr>\n",
       "      <th>11</th>\n",
       "      <td>Alcoholism</td>\n",
       "      <td>0</td>\n",
       "    </tr>\n",
       "    <tr>\n",
       "      <th>12</th>\n",
       "      <td>Handcap</td>\n",
       "      <td>0</td>\n",
       "    </tr>\n",
       "    <tr>\n",
       "      <th>13</th>\n",
       "      <td>SMS_received</td>\n",
       "      <td>0</td>\n",
       "    </tr>\n",
       "  </tbody>\n",
       "</table>\n",
       "</div>"
      ],
      "text/plain": [
       "             index  0\n",
       "0          No-show  0\n",
       "1        PatientId  0\n",
       "2    AppointmentID  0\n",
       "3           Gender  0\n",
       "4     ScheduledDay  0\n",
       "5   AppointmentDay  0\n",
       "6              Age  0\n",
       "7    Neighbourhood  0\n",
       "8      Scholarship  0\n",
       "9     Hipertension  0\n",
       "10        Diabetes  0\n",
       "11      Alcoholism  0\n",
       "12         Handcap  0\n",
       "13    SMS_received  0"
      ]
     },
     "execution_count": 7,
     "metadata": {},
     "output_type": "execute_result"
    }
   ],
   "source": [
    "NaN_data_train = train.isna().sum(axis=0).reset_index()\n",
    "NaN_data_train\n",
    "NaN_data_test = test.isna().sum(axis=0).reset_index()\n",
    "NaN_data_test"
   ]
  },
  {
   "cell_type": "code",
   "execution_count": 8,
   "metadata": {},
   "outputs": [
    {
     "name": "stdout",
     "output_type": "stream",
     "text": [
      "0\n",
      "0\n"
     ]
    }
   ],
   "source": [
    "duplicates = train.duplicated(['AppointmentID'], keep=False).sum(axis=0)\n",
    "print(duplicates)\n",
    "duplicatesT = test.duplicated(['AppointmentID'], keep=False).sum(axis=0)\n",
    "print(duplicatesT)"
   ]
  },
  {
   "cell_type": "markdown",
   "metadata": {},
   "source": [
    "## CORRETTEZZA DATASET"
   ]
  },
  {
   "cell_type": "code",
   "execution_count": 9,
   "metadata": {},
   "outputs": [],
   "source": [
    "if train.Age.isnull().sum(axis=0) > 0:\n",
    "    print(train.Age.isnull().sum(axis=0))\n",
    "    dataset = train.Age.fillna(train.Age.median())"
   ]
  },
  {
   "cell_type": "code",
   "execution_count": 10,
   "metadata": {},
   "outputs": [],
   "source": [
    "if test.Age.isnull().sum(axis=0) > 0:\n",
    "    print(test.Age.isnull().sum(axis=0))\n",
    "    dataset = test.Age.fillna(test.Age.median())"
   ]
  },
  {
   "cell_type": "code",
   "execution_count": 11,
   "metadata": {},
   "outputs": [],
   "source": [
    "if train.Gender.isnull().sum(axis=0) > 0:\n",
    "    print(train.Gender.isnull().sum(axis=0))\n",
    "    train = train.Gender.fillna(0)"
   ]
  },
  {
   "cell_type": "code",
   "execution_count": 12,
   "metadata": {},
   "outputs": [],
   "source": [
    "if test.Gender.isnull().sum(axis=0) > 0:\n",
    "    print(test.Gender.isnull().sum(axis=0))\n",
    "    test = test.Gender.fillna(0)"
   ]
  },
  {
   "cell_type": "code",
   "execution_count": 13,
   "metadata": {},
   "outputs": [],
   "source": [
    "if train[\"No-show\"].isnull().sum(axis=0) > 0:\n",
    "    print(train[\"No-show\"].isnull().sum(axis=0))\n",
    "    train = train[\"No-show\"].dropna()"
   ]
  },
  {
   "cell_type": "code",
   "execution_count": 14,
   "metadata": {},
   "outputs": [],
   "source": [
    "if test[\"No-show\"].isnull().sum(axis=0) > 0:\n",
    "    print(test[\"No-show\"].isnull().sum(axis=0))\n",
    "    test = test[\"No-show\"].dropna()"
   ]
  },
  {
   "cell_type": "code",
   "execution_count": null,
   "metadata": {},
   "outputs": [],
   "source": []
  },
  {
   "cell_type": "markdown",
   "metadata": {},
   "source": [
    "### Controllo età minima e massima "
   ]
  },
  {
   "cell_type": "markdown",
   "metadata": {},
   "source": [
    "#### Tengo solamente valori di età compresi tra 0 e 100 ( non ha senso tenere valori più alti di 100, dato che poche persone arrivano a quell'età)\n",
    "#### Ovviamente, vengono scartati anche eventuali valori negativi"
   ]
  },
  {
   "cell_type": "code",
   "execution_count": 15,
   "metadata": {},
   "outputs": [
    {
     "name": "stdout",
     "output_type": "stream",
     "text": [
      "min-age: 0\n",
      "max-age: 115\n",
      "min-age: 0\n",
      "max-age: 115\n"
     ]
    }
   ],
   "source": [
    "min_age = train.Age.min()\n",
    "print(\"min-age:\", min_age)\n",
    "max_age = train.Age.max()\n",
    "print(\"max-age:\", max_age)\n",
    "\n",
    "min_ageT = test.Age.min()\n",
    "print(\"min-age:\", min_ageT)\n",
    "max_ageT = test.Age.max()\n",
    "print(\"max-age:\", max_ageT)"
   ]
  },
  {
   "cell_type": "code",
   "execution_count": 16,
   "metadata": {},
   "outputs": [],
   "source": [
    "train = train[(train.Age >= 0) & (train.Age <= 100)]\n",
    "test = test[(test.Age >= 0) & (test.Age <= 100)]"
   ]
  },
  {
   "cell_type": "markdown",
   "metadata": {},
   "source": [
    "### Conversione formato date"
   ]
  },
  {
   "cell_type": "code",
   "execution_count": 17,
   "metadata": {},
   "outputs": [],
   "source": [
    "train['ScheduledDay'] = pd.to_datetime(train['ScheduledDay'])\n",
    "train['AppointmentDay'] = pd.to_datetime(train['AppointmentDay'])\n",
    "test['ScheduledDay'] = pd.to_datetime(test['ScheduledDay'])\n",
    "test['AppointmentDay'] = pd.to_datetime(test['AppointmentDay'])"
   ]
  },
  {
   "cell_type": "markdown",
   "metadata": {},
   "source": [
    "## Aggiunta feature AwaitingTime\n",
    "\n",
    "E' il tempo di attesa di un paziente per la sua prossima visita. Viene calcolato tramite differenza tra il giorno dell appuntamento ed il giono di prenotazione. AwaitingTime potrebbe essere incisivo sulla predizione dal momento che è stancante aspettare troppo tempo."
   ]
  },
  {
   "cell_type": "code",
   "execution_count": 18,
   "metadata": {},
   "outputs": [],
   "source": [
    "train['AwaitingTime'] = train[\"AppointmentDay\"].sub(train[\"ScheduledDay\"], axis=0)\n",
    "train[\"AwaitingTime\"] = (train[\"AwaitingTime\"] / np.timedelta64(1, 'D')).abs()\n",
    "\n",
    "test['AwaitingTime'] = test[\"AppointmentDay\"].sub(test[\"ScheduledDay\"], axis=0)\n",
    "test[\"AwaitingTime\"] = (test[\"AwaitingTime\"] / np.timedelta64(1, 'D')).abs()"
   ]
  },
  {
   "cell_type": "markdown",
   "metadata": {},
   "source": [
    "### Aggiungo la feature \"NumeroAppuntamentiMancati\" per ogni paziente\n",
    "\n",
    "Ogni paziente può avere più visite. Per ogni visita è registrato se il paziente si è presentato o meno. Potrebbe essere molto importante per la predizione calcolare il numero degli appuntamenti mancati per ogni paziente."
   ]
  },
  {
   "cell_type": "code",
   "execution_count": 19,
   "metadata": {},
   "outputs": [],
   "source": [
    "train['MissedAppo'] = train.groupby('PatientId')['No-show'].apply(lambda x: x.cumsum())\n",
    "test['MissedAppo'] = test.groupby('PatientId')['No-show'].apply(lambda x: x.cumsum())"
   ]
  },
  {
   "cell_type": "markdown",
   "metadata": {},
   "source": [
    "### Tolgo le features meno significative"
   ]
  },
  {
   "cell_type": "markdown",
   "metadata": {},
   "source": [
    "PatientId ed AppointmentId non sono chiaramente features significative affinchè un paziente si presenti o meno ad un appuntamento. ScheduleDay e AppointmentDay le ho utilizzate per ricavarmi una nuova feature, AwaitingTime (ovvero i giorni di attesa di un paziente dalla sua prossima visita), a mio parere significativa."
   ]
  },
  {
   "cell_type": "code",
   "execution_count": 20,
   "metadata": {},
   "outputs": [],
   "source": [
    "train.drop(['PatientId','AppointmentID','ScheduledDay','Handcap','AppointmentDay','Neighbourhood'], axis=1, inplace = True)"
   ]
  },
  {
   "cell_type": "code",
   "execution_count": 21,
   "metadata": {},
   "outputs": [],
   "source": [
    "test.drop(['PatientId','AppointmentID','ScheduledDay','Handcap','AppointmentDay','Neighbourhood'], axis=1, inplace = True)"
   ]
  },
  {
   "cell_type": "code",
   "execution_count": 22,
   "metadata": {
    "scrolled": true
   },
   "outputs": [],
   "source": [
    "X = train[['Gender', 'Diabetes','Hipertension', 'Scholarship', 'SMS_received','Age', 'AwaitingTime','MissedAppo']]"
   ]
  },
  {
   "cell_type": "code",
   "execution_count": 23,
   "metadata": {},
   "outputs": [],
   "source": [
    "X_ = test[['Gender', 'Diabetes','Hipertension', 'Scholarship', 'SMS_received','Age', 'AwaitingTime','MissedAppo']]"
   ]
  },
  {
   "cell_type": "code",
   "execution_count": 24,
   "metadata": {},
   "outputs": [],
   "source": [
    "y = train['No-show']"
   ]
  },
  {
   "cell_type": "code",
   "execution_count": 25,
   "metadata": {},
   "outputs": [],
   "source": [
    "y_ = test['No-show']"
   ]
  },
  {
   "cell_type": "code",
   "execution_count": 26,
   "metadata": {},
   "outputs": [],
   "source": [
    "y=y.astype('int')"
   ]
  },
  {
   "cell_type": "code",
   "execution_count": 27,
   "metadata": {},
   "outputs": [],
   "source": [
    "y_=y.astype('int')"
   ]
  },
  {
   "cell_type": "code",
   "execution_count": 28,
   "metadata": {},
   "outputs": [],
   "source": [
    "X_train1 = pd.get_dummies(X)"
   ]
  },
  {
   "cell_type": "markdown",
   "metadata": {},
   "source": [
    "## APPRENDIMENTO DEL MODELLO"
   ]
  },
  {
   "cell_type": "markdown",
   "metadata": {},
   "source": [
    "### Ridimensionamento dei dati in modo che tutti i valori siano compresi tra 0 e 1."
   ]
  },
  {
   "cell_type": "code",
   "execution_count": 29,
   "metadata": {},
   "outputs": [],
   "source": [
    "scaler = StandardScaler().fit(X_train1)\n",
    "rescaledX2 = scaler.transform(X_train1)"
   ]
  },
  {
   "cell_type": "code",
   "execution_count": 30,
   "metadata": {
    "scrolled": false
   },
   "outputs": [
    {
     "name": "stdout",
     "output_type": "stream",
     "text": [
      "Accuracy-training-subset: 0.94\n",
      "Accuracy-test-subset: 0.93\n"
     ]
    }
   ],
   "source": [
    "X_train2, X_test2, y_train2, y_test2 = train_test_split(rescaledX2, y, test_size=0.3, random_state = 42)\n",
    "\n",
    "tree = DecisionTreeClassifier(max_depth=10, random_state=42)\n",
    "tree.fit(X_train2, y_train2)\n",
    "\n",
    "y_pred2 = tree.predict(X_test2)\n",
    "\n",
    "print('Accuracy-training-subset: {:.2f}'.format(tree.score(X_train2, y_train2)))\n",
    "print('Accuracy-test-subset: {:.2f}'.format(tree.score(X_test2, y_test2)))"
   ]
  },
  {
   "cell_type": "markdown",
   "metadata": {},
   "source": [
    "## IMPORTANZA DELLE FEATURES"
   ]
  },
  {
   "cell_type": "code",
   "execution_count": 31,
   "metadata": {},
   "outputs": [
    {
     "data": {
      "image/png": "[encoded data removed]",
      "text/plain": [
       "<Figure size 432x288 with 1 Axes>"
      ]
     },
     "metadata": {
      "needs_background": "light"
     },
     "output_type": "display_data"
    }
   ],
   "source": [
    "n_features = X_train1.shape[1]\n",
    "\n",
    "plt.barh(range(n_features), tree.feature_importances_, )\n",
    "plt.yticks(np.arange(n_features), X_train1)\n",
    "plt.xlabel('Feature Importance')\n",
    "plt.ylabel('Feature')\n",
    "plt.show()"
   ]
  },
  {
   "cell_type": "code",
   "execution_count": null,
   "metadata": {},
   "outputs": [],
   "source": []
  }
 ],
 "metadata": {
  "kernelspec": {
   "display_name": "Python 3",
   "language": "python",
   "name": "python3"
  },
  "language_info": {
   "codemirror_mode": {
    "name": "ipython",
    "version": 3
   },
   "file_extension": ".py",
   "mimetype": "text/x-python",
   "name": "python",
   "nbconvert_exporter": "python",
   "pygments_lexer": "ipython3",
   "version": "3.7.6"
  }
 },
 "nbformat": 4,
 "nbformat_minor": 4
}
